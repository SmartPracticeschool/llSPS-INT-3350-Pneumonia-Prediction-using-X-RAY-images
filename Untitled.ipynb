{
 "cells": [
  {
   "cell_type": "code",
   "execution_count": 33,
   "metadata": {},
   "outputs": [],
   "source": [
    "from keras.preprocessing.image import ImageDataGenerator"
   ]
  },
  {
   "cell_type": "code",
   "execution_count": 34,
   "metadata": {},
   "outputs": [],
   "source": [
    "train_datagen=ImageDataGenerator(rescale=1./255, shear_range=0.2, zoom_range=0.2, horizontal_flip=True)\n",
    "test_datagen=ImageDataGenerator(rescale=1./255)"
   ]
  },
  {
   "cell_type": "code",
   "execution_count": 35,
   "metadata": {},
   "outputs": [
    {
     "name": "stdout",
     "output_type": "stream",
     "text": [
      "Found 5216 images belonging to 2 classes.\n",
      "Found 624 images belonging to 2 classes.\n",
      "Found 16 images belonging to 2 classes.\n"
     ]
    }
   ],
   "source": [
    "x_train=train_datagen.flow_from_directory(r'dataset\\train', target_size=(64,64),batch_size=32,class_mode='binary')\n",
    "x_test=test_datagen.flow_from_directory(r'dataset\\test', target_size=(64,64),batch_size=32,class_mode='binary')\n",
    "x_val=test_datagen.flow_from_directory(r'dataset\\val', target_size=(64,64),batch_size=32,class_mode='binary')"
   ]
  },
  {
   "cell_type": "code",
   "execution_count": 36,
   "metadata": {},
   "outputs": [
    {
     "data": {
      "text/plain": [
       "{'NORMAL': 0, 'PNEUMONIA': 1}"
      ]
     },
     "execution_count": 36,
     "metadata": {},
     "output_type": "execute_result"
    }
   ],
   "source": [
    "x_train.class_indices"
   ]
  },
  {
   "cell_type": "code",
   "execution_count": 37,
   "metadata": {},
   "outputs": [],
   "source": [
    "from keras.models import Sequential\n",
    "from keras.layers import Dense\n",
    "from keras.layers import Conv2D\n",
    "from keras.layers import MaxPooling2D\n",
    "from keras.layers import Flatten\n",
    "from keras.layers import Dropout"
   ]
  },
  {
   "cell_type": "code",
   "execution_count": 38,
   "metadata": {},
   "outputs": [],
   "source": [
    "model=Sequential() \n",
    "model.add(Conv2D(32, (3, 3), input_shape=(64,64,3),activation='relu'))\n",
    "model.add(MaxPooling2D(pool_size=(2,2)))\n",
    "model.add(Conv2D(64, (3, 3),activation='relu'))\n",
    "model.add(MaxPooling2D(pool_size=(2,2)))\n",
    "model.add(Conv2D(128, (3, 3),activation='relu'))\n",
    "model.add(MaxPooling2D(pool_size=(2,2)))\n",
    "model.add(Conv2D(128, (3, 3),activation='relu'))\n",
    "model.add(MaxPooling2D(pool_size=(2,2)))\n",
    "model.add(Flatten())\n",
    "model.add(Dropout(0.2))\n",
    "model.add(Dense(units=512, activation='relu'))\n",
    "model.add(Dense(units=1, activation='sigmoid'))"
   ]
  },
  {
   "cell_type": "code",
   "execution_count": 47,
   "metadata": {},
   "outputs": [],
   "source": [
    "model=Sequential() \n",
    "model.add(Conv2D(32, (3, 3), input_shape=(64,64,3),activation='relu'))\n",
    "model.add(MaxPooling2D(pool_size=(2,2)))\n",
    "model.add(Conv2D(64,(3, 3),activation='relu'))\n",
    "model.add(MaxPooling2D(pool_size=(2,2)))\n",
    "model.add(Conv2D(128,(3, 3),activation='relu'))\n",
    "model.add(MaxPooling2D(pool_size=(2,2)))\n",
    "model.add(Conv2D(128, (3, 3),activation='relu'))\n",
    "model.add(MaxPooling2D(pool_size=(2,2)))\n",
    "model.add(Flatten())\n",
    "model.add(Dense(units=128, activation='relu'))\n",
    "model.add(Dropout(0.4))\n",
    "model.add(Dense(units=32, activation='relu'))\n",
    "model.add(Dropout(0.2))\n",
    "model.add(Dense(units=16, activation='relu'))\n",
    "model.add(Dropout(0.2))\n",
    "model.add(Dense(units=1, activation='sigmoid'))"
   ]
  },
  {
   "cell_type": "code",
   "execution_count": 48,
   "metadata": {},
   "outputs": [
    {
     "name": "stdout",
     "output_type": "stream",
     "text": [
      "Model: \"sequential_3\"\n",
      "_________________________________________________________________\n",
      "Layer (type)                 Output Shape              Param #   \n",
      "=================================================================\n",
      "conv2d_9 (Conv2D)            (None, 62, 62, 32)        896       \n",
      "_________________________________________________________________\n",
      "max_pooling2d_9 (MaxPooling2 (None, 31, 31, 32)        0         \n",
      "_________________________________________________________________\n",
      "conv2d_10 (Conv2D)           (None, 29, 29, 64)        18496     \n",
      "_________________________________________________________________\n",
      "max_pooling2d_10 (MaxPooling (None, 14, 14, 64)        0         \n",
      "_________________________________________________________________\n",
      "conv2d_11 (Conv2D)           (None, 12, 12, 128)       73856     \n",
      "_________________________________________________________________\n",
      "max_pooling2d_11 (MaxPooling (None, 6, 6, 128)         0         \n",
      "_________________________________________________________________\n",
      "conv2d_12 (Conv2D)           (None, 4, 4, 128)         147584    \n",
      "_________________________________________________________________\n",
      "max_pooling2d_12 (MaxPooling (None, 2, 2, 128)         0         \n",
      "_________________________________________________________________\n",
      "flatten_3 (Flatten)          (None, 512)               0         \n",
      "_________________________________________________________________\n",
      "dense_7 (Dense)              (None, 128)               65664     \n",
      "_________________________________________________________________\n",
      "dropout_3 (Dropout)          (None, 128)               0         \n",
      "_________________________________________________________________\n",
      "dense_8 (Dense)              (None, 32)                4128      \n",
      "_________________________________________________________________\n",
      "dropout_4 (Dropout)          (None, 32)                0         \n",
      "_________________________________________________________________\n",
      "dense_9 (Dense)              (None, 16)                528       \n",
      "_________________________________________________________________\n",
      "dropout_5 (Dropout)          (None, 16)                0         \n",
      "_________________________________________________________________\n",
      "dense_10 (Dense)             (None, 1)                 17        \n",
      "=================================================================\n",
      "Total params: 311,169\n",
      "Trainable params: 311,169\n",
      "Non-trainable params: 0\n",
      "_________________________________________________________________\n"
     ]
    }
   ],
   "source": [
    "model.summary()"
   ]
  },
  {
   "cell_type": "code",
   "execution_count": 49,
   "metadata": {},
   "outputs": [],
   "source": [
    "model.compile(optimizer='adam', loss='binary_crossentropy',metrics=['accuracy'])"
   ]
  },
  {
   "cell_type": "code",
   "execution_count": 50,
   "metadata": {},
   "outputs": [
    {
     "data": {
      "text/plain": [
       "<tf.Tensor 'conv2d_9_input:0' shape=(?, 64, 64, 3) dtype=float32>"
      ]
     },
     "execution_count": 50,
     "metadata": {},
     "output_type": "execute_result"
    }
   ],
   "source": [
    "model.input"
   ]
  },
  {
   "cell_type": "code",
   "execution_count": 51,
   "metadata": {},
   "outputs": [
    {
     "data": {
      "text/plain": [
       "<tf.Tensor 'dense_10/Sigmoid:0' shape=(?, 1) dtype=float32>"
      ]
     },
     "execution_count": 51,
     "metadata": {},
     "output_type": "execute_result"
    }
   ],
   "source": [
    "model.output"
   ]
  },
  {
   "cell_type": "code",
   "execution_count": null,
   "metadata": {},
   "outputs": [
    {
     "name": "stdout",
     "output_type": "stream",
     "text": [
      "Epoch 1/20\n",
      "163/163 [==============================] - 74s 454ms/step - loss: 0.5938 - accuracy: 0.7404 - val_loss: 0.5509 - val_accuracy: 0.6250\n",
      "Epoch 2/20\n",
      "163/163 [==============================] - 73s 447ms/step - loss: 0.3914 - accuracy: 0.8106 - val_loss: 0.1963 - val_accuracy: 0.8654\n",
      "Epoch 3/20\n",
      "163/163 [==============================] - 73s 450ms/step - loss: 0.2890 - accuracy: 0.8760 - val_loss: 0.2916 - val_accuracy: 0.8494\n",
      "Epoch 4/20\n",
      "163/163 [==============================] - 75s 462ms/step - loss: 0.2285 - accuracy: 0.9086 - val_loss: 0.2240 - val_accuracy: 0.8462\n",
      "Epoch 5/20\n",
      "163/163 [==============================] - 74s 453ms/step - loss: 0.2387 - accuracy: 0.9018 - val_loss: 0.1814 - val_accuracy: 0.8926\n",
      "Epoch 6/20\n",
      "163/163 [==============================] - 73s 450ms/step - loss: 0.2048 - accuracy: 0.9270 - val_loss: 0.7444 - val_accuracy: 0.8750\n",
      "Epoch 7/20\n",
      "163/163 [==============================] - 74s 455ms/step - loss: 0.1819 - accuracy: 0.9296 - val_loss: 0.3981 - val_accuracy: 0.8926\n",
      "Epoch 8/20\n",
      "163/163 [==============================] - 75s 463ms/step - loss: 0.1744 - accuracy: 0.9362 - val_loss: 0.6552 - val_accuracy: 0.9231\n",
      "Epoch 9/20\n",
      "163/163 [==============================] - 76s 464ms/step - loss: 0.1711 - accuracy: 0.9337 - val_loss: 0.3901 - val_accuracy: 0.9054\n",
      "Epoch 10/20\n",
      "163/163 [==============================] - 76s 465ms/step - loss: 0.1795 - accuracy: 0.9369 - val_loss: 0.1130 - val_accuracy: 0.9135\n",
      "Epoch 11/20\n",
      "163/163 [==============================] - 75s 458ms/step - loss: 0.1638 - accuracy: 0.9394 - val_loss: 0.2102 - val_accuracy: 0.8606\n",
      "Epoch 12/20\n",
      "163/163 [==============================] - 75s 457ms/step - loss: 0.1498 - accuracy: 0.9452 - val_loss: 0.5841 - val_accuracy: 0.8494\n",
      "Epoch 13/20\n",
      "163/163 [==============================] - 74s 455ms/step - loss: 0.1435 - accuracy: 0.9456 - val_loss: 0.8061 - val_accuracy: 0.8558\n",
      "Epoch 14/20\n",
      "163/163 [==============================] - 75s 458ms/step - loss: 0.1482 - accuracy: 0.9427 - val_loss: 0.0647 - val_accuracy: 0.9199\n",
      "Epoch 15/20\n",
      "163/163 [==============================] - 73s 448ms/step - loss: 0.1457 - accuracy: 0.9503 - val_loss: 1.1419 - val_accuracy: 0.8510\n",
      "Epoch 16/20\n",
      "163/163 [==============================] - 72s 445ms/step - loss: 0.1408 - accuracy: 0.9465 - val_loss: 0.4460 - val_accuracy: 0.9279\n",
      "Epoch 17/20\n",
      "163/163 [==============================] - 73s 446ms/step - loss: 0.1409 - accuracy: 0.9519 - val_loss: 0.1430 - val_accuracy: 0.9279\n",
      "Epoch 18/20\n",
      "163/163 [==============================] - 74s 452ms/step - loss: 0.1285 - accuracy: 0.9540 - val_loss: 0.4347 - val_accuracy: 0.9071\n",
      "Epoch 19/20\n",
      "163/163 [==============================] - 74s 454ms/step - loss: 0.1293 - accuracy: 0.9538 - val_loss: 0.4821 - val_accuracy: 0.9375\n",
      "Epoch 20/20\n",
      " 46/163 [=======>......................] - ETA: 44s - loss: 0.1306 - accuracy: 0.9545"
     ]
    }
   ],
   "source": [
    "model.fit_generator(x_train,epochs=20,validation_data=x_test)"
   ]
  },
  {
   "cell_type": "code",
   "execution_count": 45,
   "metadata": {},
   "outputs": [
    {
     "name": "stdout",
     "output_type": "stream",
     "text": [
      "[[ 73 161]\n",
      " [131 259]]\n",
      "53.205128205128204\n"
     ]
    }
   ],
   "source": [
    "import numpy as np\n",
    "from sklearn.metrics import accuracy_score, confusion_matrix\n",
    "pred = model.predict(x_test)\n",
    "#y_pred = np.argmax(np.round(pred), axis=1)\n",
    "y_pred=np.round(pred)\n",
    "acc = accuracy_score(x_test.classes,y_pred)*100\n",
    "cm = confusion_matrix(x_test.classes,y_pred)\n",
    "print(cm)\n",
    "print(acc)"
   ]
  },
  {
   "cell_type": "code",
   "execution_count": 46,
   "metadata": {},
   "outputs": [
    {
     "name": "stdout",
     "output_type": "stream",
     "text": [
      "\n",
      "accuracy: 92.95%\n"
     ]
    }
   ],
   "source": [
    "# evaluate the model\n",
    "scores = model.evaluate_generator(x_test)\n",
    "print(\"\\n%s: %.2f%%\" % (model.metrics_names[1], scores[1]*100))"
   ]
  },
  {
   "cell_type": "code",
   "execution_count": 21,
   "metadata": {},
   "outputs": [],
   "source": [
    "model.save(\"mymodel.h5\")"
   ]
  },
  {
   "cell_type": "code",
   "execution_count": 5,
   "metadata": {},
   "outputs": [
    {
     "name": "stdout",
     "output_type": "stream",
     "text": [
      "WARNING:tensorflow:From C:\\Users\\Win 10\\Anaconda3\\lib\\site-packages\\keras\\backend\\tensorflow_backend.py:4070: The name tf.nn.max_pool is deprecated. Please use tf.nn.max_pool2d instead.\n",
      "\n",
      "WARNING:tensorflow:From C:\\Users\\Win 10\\Anaconda3\\lib\\site-packages\\tensorflow\\python\\ops\\nn_impl.py:180: add_dispatch_support.<locals>.wrapper (from tensorflow.python.ops.array_ops) is deprecated and will be removed in a future version.\n",
      "Instructions for updating:\n",
      "Use tf.where in 2.0, which has the same broadcast rule as np.where\n",
      "WARNING:tensorflow:From C:\\Users\\Win 10\\Anaconda3\\lib\\site-packages\\keras\\backend\\tensorflow_backend.py:422: The name tf.global_variables is deprecated. Please use tf.compat.v1.global_variables instead.\n",
      "\n"
     ]
    }
   ],
   "source": [
    "from keras.models import load_model\n",
    "import numpy as np\n",
    "import cv2\n",
    "model = load_model(\"mymodel.h5\")"
   ]
  },
  {
   "cell_type": "code",
   "execution_count": 6,
   "metadata": {},
   "outputs": [],
   "source": [
    "model.compile(optimizer='adam', loss='binary_crossentropy',metrics=['accuracy'])"
   ]
  },
  {
   "cell_type": "code",
   "execution_count": 28,
   "metadata": {},
   "outputs": [],
   "source": [
    "from skimage.transform import resize\n",
    "def detect(frame):\n",
    "    try:\n",
    "        img=resize(frame,(64,64))\n",
    "        img=np.expand_dims(img, axis=0)\n",
    "        if(np.max(img)>1):\n",
    "            img=img/255.0\n",
    "        prediction=model.predict(img)\n",
    "        prediction=prediction[0][0]\n",
    "        if prediction>0.5:\n",
    "            prediction=prediction*100\n",
    "        else:\n",
    "            prediction=(1-prediction)*100\n",
    "        prediction_class=model.predict_classes(img)\n",
    "        if prediction_class == 0:\n",
    "            prediction_class= \"Normal\"\n",
    "        else:\n",
    "            prediction_class= \"Pneumoniac\"\n",
    "        print(\"I am {:.2f}% sure this person is {}\".format(prediction, prediction_class))\n",
    "    except AttributeError:\n",
    "        print(\"image not found\")"
   ]
  },
  {
   "cell_type": "code",
   "execution_count": 31,
   "metadata": {},
   "outputs": [
    {
     "name": "stdout",
     "output_type": "stream",
     "text": [
      "I am 99.60% sure this person is Normal\n"
     ]
    }
   ],
   "source": [
    "frame=cv2.imread(\"sample.jpeg\")\n",
    "detect(frame)"
   ]
  }
 ],
 "metadata": {
  "kernelspec": {
   "display_name": "Python 3",
   "language": "python",
   "name": "python3"
  },
  "language_info": {
   "codemirror_mode": {
    "name": "ipython",
    "version": 3
   },
   "file_extension": ".py",
   "mimetype": "text/x-python",
   "name": "python",
   "nbconvert_exporter": "python",
   "pygments_lexer": "ipython3",
   "version": "3.7.3"
  }
 },
 "nbformat": 4,
 "nbformat_minor": 4
}
